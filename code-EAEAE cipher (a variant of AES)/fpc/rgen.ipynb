{
 "cells": [
  {
   "cell_type": "code",
   "execution_count": 3,
   "metadata": {},
   "outputs": [],
   "source": [
    "import time\n",
    "import paramiko\n",
    "\n",
    "hostname = \"172.27.26.188\"\n",
    "port = 22\n",
    "username = \"student\"\n",
    "password = \"cs641\"\n",
    "\n",
    "ssh = paramiko.client.SSHClient()\n",
    "ssh.load_system_host_keys()\n",
    "ssh.set_missing_host_key_policy(paramiko.AutoAddPolicy())\n",
    "ssh.connect(hostname, port, username, password, allow_agent=False, look_for_keys=False)\n",
    "\n",
    "Instruct = ssh.invoke_shell()"
   ]
  },
  {
   "cell_type": "code",
   "execution_count": 4,
   "metadata": {},
   "outputs": [],
   "source": [
    "list_cmd = [\"team_13\\n\",\"team_12\\n\",\"5\\n\",\"go\\n\",\"wave\\n\",\"dive\\n\",\"go\\n\",\"read\\n\"]\n",
    "for item in list_cmd:\n",
    "    Instruct.send(item)\n",
    "    time.sleep(0.8)\n",
    "    Instruct.recv(5000)"
   ]
  },
  {
   "cell_type": "code",
   "execution_count": 5,
   "metadata": {},
   "outputs": [],
   "source": [
    "dict_ciphter = {\n",
    " '0':'f',\n",
    " '1':'g', \n",
    " '2':'h', \n",
    " '3':'x', \n",
    " '4':'y', \n",
    " '5':'k', \n",
    " '6':'l', \n",
    " '7':'m', \n",
    " '8':'n', \n",
    " '9':'o', \n",
    " 'a':'p', \n",
    " 'b':'q', \n",
    " 'c':'r', \n",
    " 'd':'s', \n",
    " 'e':'t', \n",
    " 'f':'u'\n",
    " }\n",
    "dict_hex = {\n",
    "'f':'0', \n",
    "'g':'1', \n",
    "'h':'2', \n",
    "'x':'3', \n",
    "'y':'4', \n",
    "'k':'5', \n",
    "'l':'6', \n",
    "'m':'7', \n",
    "'n':'8', \n",
    "'o':'9', \n",
    "'p':'a', \n",
    "'q':'b', \n",
    "'r':'c', \n",
    "'s':'d', \n",
    "'t':'e', \n",
    "'u':'f'\n",
    "}\n",
    "\n",
    "def Hex_convertor(instancex):\n",
    "    new=''\n",
    "    for x in instancex:\n",
    "        new+=dict_hex[x]\n",
    "    return new\n",
    "\n",
    "def Cipher_converter(instancex):\n",
    "    new=''\n",
    "    for x in instancex:\n",
    "        new+=dict_ciphter[x]\n",
    "    return new"
   ]
  },
  {
   "cell_type": "code",
   "execution_count": 6,
   "metadata": {},
   "outputs": [
    {
     "data": {
      "text/plain": [
       "b'password\\r\\n\\x1b[H\\x1b[J\\r\\n\\r\\n\\r\\n\\r\\n\\r\\nSlowly, a new text starts appearing on the screen. It reads ...\\r\\n\\t\\tgskfgnjiiujogfhhjnjumjmrinjqgklk\\r\\n\\r\\n\\r\\nPress c to continue> '"
      ]
     },
     "execution_count": 6,
     "metadata": {},
     "output_type": "execute_result"
    }
   ],
   "source": [
    "Instruct.send(\"password\\n\")\n",
    "time.sleep(0.8)\n",
    "Instruct.recv(5000)"
   ]
  },
  {
   "cell_type": "code",
   "execution_count": 7,
   "metadata": {},
   "outputs": [
    {
     "data": {
      "text/plain": [
       "b'c\\r\\n\\x1b[H\\x1b[J\\r\\n\\r\\n\\r\\n\\r\\n\\tThe text in the screen vanishes!\\r\\n\\r\\n> '"
      ]
     },
     "execution_count": 7,
     "metadata": {},
     "output_type": "execute_result"
    }
   ],
   "source": [
    "Instruct.send(\"c\\n\")\n",
    "time.sleep(0.8)\n",
    "Instruct.recv(5000)"
   ]
  },
  {
   "cell_type": "code",
   "execution_count": 8,
   "metadata": {},
   "outputs": [],
   "source": [
    "Input_String = []\n",
    "vara=1\n",
    "while vara<128:\n",
    "    __msg = hex(vara)[2:]\n",
    "    if len(__msg)==1:\n",
    "        __msg='0'+__msg\n",
    "    for b in range(1,9):\n",
    "        __input = Cipher_converter(__msg)\n",
    "        __tempw = 'ff'*(b-1)+__input+'ff'*(9-b-1)\n",
    "        Input_String.append(__tempw)\n",
    "    vara+=1\n",
    "__input = ['f'*16]*8\n",
    "\n",
    "x = 0\n",
    "y = 0\n",
    "while x<8:\n",
    "    while y <127:\n",
    "        __input[x]+=' '+Input_String[8*y+x][:16]\n",
    "        y+=1\n",
    "    x+=1\n",
    "\n",
    "outfile = open(\"inputs.txt\",\"w\")\n",
    "for x in __input:\n",
    "    outfile.write(x)\n",
    "    outfile.write(\"\\n\")\n",
    "outfile.close()"
   ]
  },
  {
   "cell_type": "code",
   "execution_count": 10,
   "metadata": {
    "scrolled": true
   },
   "outputs": [
    {
     "name": "stdout",
     "output_type": "stream",
     "text": [
      "1 2 3 4 5 6 7 8 "
     ]
    },
    {
     "ename": "KeyboardInterrupt",
     "evalue": "",
     "output_type": "error",
     "traceback": [
      "\u001b[1;31m---------------------------------------------------------------------------\u001b[0m",
      "\u001b[1;31mKeyboardInterrupt\u001b[0m                         Traceback (most recent call last)",
      "\u001b[1;32mc:\\Users\\UTTAM\\Desktop\\fpc\\rgen.ipynb Cell 7\u001b[0m in \u001b[0;36m<cell line: 5>\u001b[1;34m()\u001b[0m\n\u001b[0;32m      <a href='vscode-notebook-cell:/c%3A/Users/UTTAM/Desktop/fpc/rgen.ipynb#W6sZmlsZQ%3D%3D?line=6'>7</a>\u001b[0m \u001b[39mfor\u001b[39;00m __input \u001b[39min\u001b[39;00m item\u001b[39m.\u001b[39msplit():\n\u001b[0;32m      <a href='vscode-notebook-cell:/c%3A/Users/UTTAM/Desktop/fpc/rgen.ipynb#W6sZmlsZQ%3D%3D?line=7'>8</a>\u001b[0m     Instruct\u001b[39m.\u001b[39msend(__input\u001b[39m+\u001b[39m\u001b[39m\"\u001b[39m\u001b[39m\\n\u001b[39;00m\u001b[39m\"\u001b[39m)\n\u001b[1;32m----> <a href='vscode-notebook-cell:/c%3A/Users/UTTAM/Desktop/fpc/rgen.ipynb#W6sZmlsZQ%3D%3D?line=8'>9</a>\u001b[0m     time\u001b[39m.\u001b[39;49msleep(\u001b[39m1\u001b[39;49m)\n\u001b[0;32m     <a href='vscode-notebook-cell:/c%3A/Users/UTTAM/Desktop/fpc/rgen.ipynb#W6sZmlsZQ%3D%3D?line=9'>10</a>\u001b[0m     x \u001b[39m=\u001b[39m Instruct\u001b[39m.\u001b[39mrecv(\u001b[39m5000\u001b[39m)\n\u001b[0;32m     <a href='vscode-notebook-cell:/c%3A/Users/UTTAM/Desktop/fpc/rgen.ipynb#W6sZmlsZQ%3D%3D?line=10'>11</a>\u001b[0m     x \u001b[39m=\u001b[39m x[\u001b[39m-\u001b[39m\u001b[39m43\u001b[39m:\u001b[39m-\u001b[39m\u001b[39m27\u001b[39m]\n",
      "\u001b[1;31mKeyboardInterrupt\u001b[0m: "
     ]
    }
   ],
   "source": [
    "file1 = open('inputs.txt', 'r')\n",
    "Listsl = file1.readlines()\n",
    "out = []\n",
    "done = 1\n",
    "for item in Listsl:\n",
    "    inpf=''\n",
    "    for __input in item.split():\n",
    "        Instruct.send(__input+\"\\n\")\n",
    "        time.sleep(1)\n",
    "        x = Instruct.recv(5000)\n",
    "        x = x[-43:-27]\n",
    "        print(done, end=\" \")\n",
    "        done = done + 1\n",
    "        inpf += ' '+x.decode(\"UTF-8\")\n",
    "        Instruct.send(\"c\\n\")\n",
    "        time.sleep(1)\n",
    "        Instruct.recv(5000)\n",
    "    out.append(inpf[1:])\n",
    "\n",
    "outfile = open(\"outputs.txt\",\"w\")\n",
    "for x in out:\n",
    "    outfile.write(x)\n",
    "    outfile.write(\"\\n\")\n",
    "outfile.close()"
   ]
  },
  {
   "cell_type": "code",
   "execution_count": null,
   "metadata": {},
   "outputs": [],
   "source": []
  }
 ],
 "metadata": {
  "kernelspec": {
   "display_name": "Python 3",
   "language": "python",
   "name": "python3"
  },
  "language_info": {
   "codemirror_mode": {
    "name": "ipython",
    "version": 3
   },
   "file_extension": ".py",
   "mimetype": "text/x-python",
   "name": "python",
   "nbconvert_exporter": "python",
   "pygments_lexer": "ipython3",
   "version": "3.10.3"
  }
 },
 "nbformat": 4,
 "nbformat_minor": 4
}
